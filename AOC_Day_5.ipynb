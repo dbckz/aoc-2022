{
  "nbformat": 4,
  "nbformat_minor": 0,
  "metadata": {
    "colab": {
      "provenance": [],
      "authorship_tag": "ABX9TyPWCYHBUk2XiUaUnzY/8CpL",
      "include_colab_link": true
    },
    "kernelspec": {
      "name": "python3",
      "display_name": "Python 3"
    },
    "language_info": {
      "name": "python"
    }
  },
  "cells": [
    {
      "cell_type": "markdown",
      "metadata": {
        "id": "view-in-github",
        "colab_type": "text"
      },
      "source": [
        "<a href=\"https://colab.research.google.com/github/dbckz/aoc-2022/blob/main/AOC_Day_5.ipynb\" target=\"_parent\"><img src=\"https://colab.research.google.com/assets/colab-badge.svg\" alt=\"Open In Colab\"/></a>"
      ]
    },
    {
      "cell_type": "markdown",
      "source": [
        "# Me"
      ],
      "metadata": {
        "id": "dxXlP6cFTo6h"
      }
    },
    {
      "cell_type": "markdown",
      "source": [
        "Start: 12:41"
      ],
      "metadata": {
        "id": "OO5Tt7VLTq8s"
      }
    },
    {
      "cell_type": "code",
      "execution_count": 155,
      "metadata": {
        "id": "covGkfFBTBGg"
      },
      "outputs": [],
      "source": [
        "import copy"
      ]
    },
    {
      "cell_type": "code",
      "source": [
        "class Instruction:\n",
        "  def __init__(self, num_crates, from_stack, to_stack):\n",
        "    self.num_crates = num_crates\n",
        "    self.from_stack = from_stack\n",
        "    self.to_stack = to_stack\n",
        "  \n",
        "  def __str__(self):\n",
        "        return 'Instruction(num_crates=' + str(self.num_crates) + ' ,from_stack=' + str(self.from_stack) + ' ,to_stack' + str(self.to_stack) + ')'\n",
        "        \n",
        "  def __repr__(self):\n",
        "        return 'Instruction(num_crates=' + str(self.num_crates) + ' ,from_stack=' + str(self.from_stack) + ' ,to_stack' + str(self.to_stack) + ')'"
      ],
      "metadata": {
        "id": "DFSOibtWUnTh"
      },
      "execution_count": 156,
      "outputs": []
    },
    {
      "cell_type": "code",
      "source": [
        "instructions = []\n",
        "with open('instructions') as f:\n",
        "  for line in f:\n",
        "    t = line.strip().split(' ')\n",
        "    ins = Instruction(int(t[1]), int(t[3]), int(t[5]))\n",
        "    instructions.append(ins)"
      ],
      "metadata": {
        "id": "dkHHjFcHUYsu"
      },
      "execution_count": 157,
      "outputs": []
    },
    {
      "cell_type": "code",
      "source": [
        "orig_stacks = []\n",
        "\n",
        "with open('crate_config') as f:\n",
        "  for line in reversed(list(f)):\n",
        "    line = line.strip('\\n')\n",
        "    line_length = len(line) # 1 5 9 13 17 ...\n",
        "    num_stacks = (line_length // 4) + 1\n",
        "    for n in range(num_stacks):\n",
        "      orig_stacks.append([])\n",
        "    break\n",
        "\n",
        "with open('crate_config') as f:\n",
        "  for line in reversed(list(f)[:-1]):\n",
        "    i = 1\n",
        "    j = 0 \n",
        "    while i < line_length:\n",
        "      if line[i] != ' ':\n",
        "        orig_stacks[j].append(line[i])\n",
        "      i += 4\n",
        "      j += 1\n"
      ],
      "metadata": {
        "id": "YQXIW2BeWRWY"
      },
      "execution_count": 159,
      "outputs": []
    },
    {
      "cell_type": "code",
      "source": [
        "stacks = copy.deepcopy(orig_stacks)\n",
        "for inst in instructions:\n",
        "  to_append = stacks[inst.from_stack - 1][len(stacks[inst.from_stack - 1]) - inst.num_crates:]\n",
        "  stacks[inst.to_stack - 1].extend(reversed(to_append))\n",
        "  stacks[inst.from_stack - 1] = stacks[inst.from_stack -1][:len(stacks[inst.from_stack - 1]) - inst.num_crates]\n",
        "\n",
        "answer = ''\n",
        "for stack in stacks:\n",
        "  answer = answer + stack[-1]\n",
        "\n",
        "print(answer)"
      ],
      "metadata": {
        "colab": {
          "base_uri": "https://localhost:8080/"
        },
        "id": "-9eejdhKfIpO",
        "outputId": "e3f65656-3502-4b58-83dd-a199d56ddd27"
      },
      "execution_count": 160,
      "outputs": [
        {
          "output_type": "stream",
          "name": "stdout",
          "text": [
            "RTGWZTHLD\n"
          ]
        }
      ]
    },
    {
      "cell_type": "code",
      "source": [
        "# part 2 just same as part 1 but without 'reversed'\n",
        "stacks = copy.deepcopy(orig_stacks)\n",
        "for inst in instructions:\n",
        "  to_append = stacks[inst.from_stack - 1][len(stacks[inst.from_stack - 1]) - inst.num_crates:]\n",
        "  stacks[inst.to_stack - 1].extend(to_append)\n",
        "  stacks[inst.from_stack - 1] = stacks[inst.from_stack -1][:len(stacks[inst.from_stack - 1]) - inst.num_crates]\n",
        "\n",
        "answer = ''\n",
        "for stack in stacks:\n",
        "  answer = answer + stack[-1]\n",
        "\n",
        "print(answer)\n"
      ],
      "metadata": {
        "colab": {
          "base_uri": "https://localhost:8080/"
        },
        "id": "bnw_MVYomTOn",
        "outputId": "3316fabe-3a61-49cb-acc4-054b52907a1b"
      },
      "execution_count": 161,
      "outputs": [
        {
          "output_type": "stream",
          "name": "stdout",
          "text": [
            "STHGRZZFR\n"
          ]
        }
      ]
    },
    {
      "cell_type": "markdown",
      "source": [
        "End: 14:04 - I took way to long figuring out how to nicely read the data. And it wasn't really needed. Oh well."
      ],
      "metadata": {
        "id": "xN6gOcf4mhMe"
      }
    },
    {
      "cell_type": "markdown",
      "source": [
        "# ChatGPT"
      ],
      "metadata": {
        "id": "Tv1wBi_Wnx54"
      }
    },
    {
      "cell_type": "markdown",
      "source": [
        "Complex to parse input so I couldn't be bothered / have actual work to do :)"
      ],
      "metadata": {
        "id": "nYadSsbtn7aN"
      }
    }
  ]
}