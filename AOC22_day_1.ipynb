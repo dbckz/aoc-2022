{
  "nbformat": 4,
  "nbformat_minor": 0,
  "metadata": {
    "colab": {
      "provenance": [],
      "authorship_tag": "ABX9TyNnww6C2HXX3fGYR09qhRBJ",
      "include_colab_link": true
    },
    "kernelspec": {
      "name": "python3",
      "display_name": "Python 3"
    },
    "language_info": {
      "name": "python"
    }
  },
  "cells": [
    {
      "cell_type": "markdown",
      "metadata": {
        "id": "view-in-github",
        "colab_type": "text"
      },
      "source": [
        "<a href=\"https://colab.research.google.com/github/dbckz/aoc-2022/blob/main/AOC22_day_1.ipynb\" target=\"_parent\"><img src=\"https://colab.research.google.com/assets/colab-badge.svg\" alt=\"Open In Colab\"/></a>"
      ]
    },
    {
      "cell_type": "markdown",
      "source": [
        "# Me"
      ],
      "metadata": {
        "id": "WrJVZ6lBPWNB"
      }
    },
    {
      "cell_type": "code",
      "execution_count": 1,
      "metadata": {
        "id": "9ylaf81yEwag"
      },
      "outputs": [],
      "source": [
        "import numpy as np"
      ]
    },
    {
      "cell_type": "code",
      "source": [
        "calories = []\n",
        "\n",
        "with open('input') as f:\n",
        "  items = []\n",
        "  for line in f:\n",
        "    if len(line.strip()) == 0:\n",
        "      calories.append(items)\n",
        "      items = []\n",
        "    else:\n",
        "      items.append(int(line.strip()))\n",
        "\n",
        "calories = np.array(calories)"
      ],
      "metadata": {
        "colab": {
          "base_uri": "https://localhost:8080/"
        },
        "id": "cqHoVDodFYob",
        "outputId": "086d02c2-553d-4070-b084-3b7276c3895d"
      },
      "execution_count": 35,
      "outputs": [
        {
          "output_type": "stream",
          "name": "stderr",
          "text": [
            "<ipython-input-35-28583d0da7cb>:12: VisibleDeprecationWarning: Creating an ndarray from ragged nested sequences (which is a list-or-tuple of lists-or-tuples-or ndarrays with different lengths or shapes) is deprecated. If you meant to do this, you must specify 'dtype=object' when creating the ndarray.\n",
            "  calories = np.array(calories)\n"
          ]
        }
      ]
    },
    {
      "cell_type": "code",
      "source": [
        "sums = np.array([sum(x) for x in calories])"
      ],
      "metadata": {
        "id": "Ic3m1DcEFQbR"
      },
      "execution_count": 38,
      "outputs": []
    },
    {
      "cell_type": "code",
      "source": [
        "# Answer to part 1 is just the maximum sum\n",
        "max_value = max(sums)\n",
        "print(max_value)"
      ],
      "metadata": {
        "colab": {
          "base_uri": "https://localhost:8080/"
        },
        "id": "dbfQWEWZI6jb",
        "outputId": "0c946740-3975-4530-9d6f-dc665bca3555"
      },
      "execution_count": 40,
      "outputs": [
        {
          "output_type": "stream",
          "name": "stdout",
          "text": [
            "68787\n"
          ]
        }
      ]
    },
    {
      "cell_type": "code",
      "source": [
        "# Answer to part 2 is just the sum of the 3 highest entries\n",
        "sums.sort()\n",
        "print(sum(sums[:-4:-1]))"
      ],
      "metadata": {
        "colab": {
          "base_uri": "https://localhost:8080/"
        },
        "id": "7gzL8_qpLsjh",
        "outputId": "137bd0ba-eef8-49f7-b837-78ced10a9a75"
      },
      "execution_count": 70,
      "outputs": [
        {
          "output_type": "stream",
          "name": "stdout",
          "text": [
            "198041\n"
          ]
        }
      ]
    },
    {
      "cell_type": "markdown",
      "source": [
        "# GPT-3"
      ],
      "metadata": {
        "id": "8H8AD0c5PcM1"
      }
    },
    {
      "cell_type": "markdown",
      "source": [
        "See https://beta.openai.com/playground/p/rRoSDIWZ81Eh6DiCd0jTn7GM?model=text-davinci-003"
      ],
      "metadata": {
        "id": "ZrqShgnXPzo3"
      }
    },
    {
      "cell_type": "code",
      "source": [
        "def find_max_calories(calorie_list):\n",
        "    max_cal = 0\n",
        "    max_cal_elf = 0\n",
        "    for i, elf_cal in enumerate(calorie_list):\n",
        "        if sum(elf_cal) > max_cal:\n",
        "            max_cal = sum(elf_cal)\n",
        "            max_cal_elf = i\n",
        "    return max_cal_elf, max_cal\n",
        "\n",
        "max_cal_elf, max_cal = find_max_calories(calories)\n",
        "print(\"The Elf carrying the most Calories is Elf {} with {} Calories\".format(max_cal_elf + 1, max_cal))"
      ],
      "metadata": {
        "colab": {
          "base_uri": "https://localhost:8080/"
        },
        "id": "Yg42r74lOu2A",
        "outputId": "d4806ef2-5445-40bf-b372-0af33f649d57"
      },
      "execution_count": 71,
      "outputs": [
        {
          "output_type": "stream",
          "name": "stdout",
          "text": [
            "The Elf carrying the most Calories is Elf 86 with 68787 Calories\n"
          ]
        }
      ]
    },
    {
      "cell_type": "code",
      "source": [
        "def find_top_three_calories(calorie_list):\n",
        "    elf_cal_list = sorted([(i, sum(elf_cal)) for i, elf_cal in enumerate(calorie_list)], key=lambda x: x[1], reverse=True)\n",
        "    top_three = elf_cal_list[:3]\n",
        "    total_cal = sum(cal for _, cal in top_three)\n",
        "    return top_three, total_cal\n",
        "\n",
        "top_three, total_cal = find_top_three_calories(calories)\n",
        "\n",
        "print(\"The top three Elves carrying the most Calories are Elves {}, {}, and {} with a total of {} Calories\".format(top_three[0][0] + 1, top_three[1][0] + 1, top_three[2][0] + 1, total_cal))"
      ],
      "metadata": {
        "colab": {
          "base_uri": "https://localhost:8080/"
        },
        "id": "VK49CzyVPPnL",
        "outputId": "e207e07e-f3bc-4872-c73a-ac8d971cd7c1"
      },
      "execution_count": 72,
      "outputs": [
        {
          "output_type": "stream",
          "name": "stdout",
          "text": [
            "The top three Elves carrying the most Calories are Elves 86, 24, and 123 with a total of 198041 Calories\n"
          ]
        }
      ]
    }
  ]
}