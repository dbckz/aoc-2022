{
  "nbformat": 4,
  "nbformat_minor": 0,
  "metadata": {
    "colab": {
      "provenance": [],
      "authorship_tag": "ABX9TyMXnxnUp9lLp9TISJg/skAc",
      "include_colab_link": true
    },
    "kernelspec": {
      "name": "python3",
      "display_name": "Python 3"
    },
    "language_info": {
      "name": "python"
    }
  },
  "cells": [
    {
      "cell_type": "markdown",
      "metadata": {
        "id": "view-in-github",
        "colab_type": "text"
      },
      "source": [
        "<a href=\"https://colab.research.google.com/github/dbckz/aoc-2022/blob/main/AOC_day_11.ipynb\" target=\"_parent\"><img src=\"https://colab.research.google.com/assets/colab-badge.svg\" alt=\"Open In Colab\"/></a>"
      ]
    },
    {
      "cell_type": "code",
      "execution_count": 89,
      "metadata": {
        "id": "oqG9b3cYPcOw"
      },
      "outputs": [],
      "source": [
        "class Monkey:\n",
        "  def __init__(self, id, things, operation, test, if_true, if_false):\n",
        "    self.id = id\n",
        "    self.things = things\n",
        "    self.operation = operation\n",
        "    self.test = test\n",
        "    self.if_true = if_true\n",
        "    self.if_false = if_false\n",
        "    self.inspected = 0\n",
        "\n",
        "  def run_test(self, level):\n",
        "    if level % self.test == 0:\n",
        "      return self.if_true\n",
        "    return self.if_false\n",
        "\n",
        "  def append_item(self, item):\n",
        "    self.things.append(item)\n",
        "\n",
        "  def inspect(self):\n",
        "    self.inspected += 1"
      ]
    },
    {
      "cell_type": "code",
      "source": [
        "monkeys = []\n",
        "\n",
        "# def op_0(x):\n",
        "#   return x * 19\n",
        "# monkey_0 = Monkey(0, [79,98], op_0, 23, 2, 3)\n",
        "# monkeys.append(monkey_0)\n",
        "\n",
        "# def op_1(x):\n",
        "#   return x + 6\n",
        "\n",
        "# monkey_1 = Monkey(1, [54,65,75,74], op_1, 19, 2, 0)\n",
        "# monkeys.append(monkey_1)\n",
        "\n",
        "# def op_2(x):\n",
        "#   return x * x\n",
        "\n",
        "# monkey_2 = Monkey(2, [79, 60, 97], op_2, 13, 1, 3)\n",
        "# monkeys.append(monkey_2)\n",
        "\n",
        "# def op_3(x):\n",
        "#   return x + 3\n",
        "# monkey_3 = Monkey(3, [74], op_3, 17, 0, 1)\n",
        "# monkeys.append(monkey_3)\n",
        "\n",
        "def op_0(x):\n",
        "  return x * 7\n",
        "monkey_0 = Monkey(0, [54, 61, 97, 63, 74], op_0, 17, 5, 3)\n",
        "monkeys.append(monkey_0)\n",
        "\n",
        "def op_1(x):\n",
        "  return x + 8\n",
        "\n",
        "monkey_1 = Monkey(1, [61, 70, 97, 64, 99, 83, 52, 87], op_1, 2, 7, 6)\n",
        "monkeys.append(monkey_1)\n",
        "\n",
        "def op_2(x):\n",
        "  return x * 13\n",
        "\n",
        "monkey_2 = Monkey(2, [60, 67, 80, 65], op_2, 5, 1, 6)\n",
        "monkeys.append(monkey_2)\n",
        "\n",
        "def op_3(x):\n",
        "  return x + 7\n",
        "monkey_3 = Monkey(3, [61, 70, 76, 69, 82, 56], op_3, 3, 5, 2)\n",
        "monkeys.append(monkey_3)\n",
        "\n",
        "def op_4(x):\n",
        "  return x + 2\n",
        "\n",
        "monkey_4 = Monkey(4, [79, 98], op_4, 7, 0, 3)\n",
        "monkeys.append(monkey_4)\n",
        "\n",
        "def op_5(x):\n",
        "  return x + 1\n",
        "\n",
        "monkey_5 = Monkey(5, [72, 79, 55], op_5, 13, 2, 1)\n",
        "monkeys.append(monkey_5)\n",
        "\n",
        "def op_6(x):\n",
        "  return x + 4\n",
        "\n",
        "monkey_6 = Monkey(6, [63], op_6, 19, 7, 4)\n",
        "monkeys.append(monkey_6)\n",
        "\n",
        "def op_7(x):\n",
        "  return x ** 2\n",
        "\n",
        "monkey_7 = Monkey(7, [72, 51, 93, 63, 80, 86, 81], op_7, 11, 0, 4)\n",
        "monkeys.append(monkey_7)"
      ],
      "metadata": {
        "id": "_qGIX4fARYNh"
      },
      "execution_count": 90,
      "outputs": []
    },
    {
      "cell_type": "code",
      "source": [
        "worry_level = 0\n",
        "\n",
        "import copy\n",
        "\n",
        "start_monkeys = copy.deepcopy(monkeys)\n",
        "\n",
        "for i in range(20):\n",
        "  if (i % 2 == 0):\n",
        "    print(f\"Starting round {i}...\")\n",
        "  for monkey in start_monkeys:\n",
        "    for thing in monkey.things:\n",
        "      # print(f\"Monkey {monkey.id} inspects item with value {thing}\")\n",
        "      worry_level = monkey.operation(thing) // 3\n",
        "      pass_to = monkey.run_test(worry_level)\n",
        "      start_monkeys[pass_to].append_item(worry_level)\n",
        "      monkey.inspect()\n",
        "    monkey.things = []"
      ],
      "metadata": {
        "colab": {
          "base_uri": "https://localhost:8080/"
        },
        "id": "0VYfIC1_ShgE",
        "outputId": "e173f4e1-7b2e-40ee-dfe8-f57d7756cfec"
      },
      "execution_count": 97,
      "outputs": [
        {
          "output_type": "stream",
          "name": "stdout",
          "text": [
            "Starting round 0...\n",
            "Starting round 2...\n",
            "Starting round 4...\n",
            "Starting round 6...\n",
            "Starting round 8...\n",
            "Starting round 10...\n",
            "Starting round 12...\n",
            "Starting round 14...\n",
            "Starting round 16...\n",
            "Starting round 18...\n"
          ]
        }
      ]
    },
    {
      "cell_type": "code",
      "source": [
        "business = [x.inspected for x in start_monkeys]\n",
        "answer = sorted(business)[-1] * sorted(business)[-2]\n",
        "print(answer)"
      ],
      "metadata": {
        "colab": {
          "base_uri": "https://localhost:8080/"
        },
        "id": "1ePdBUsvZ-LT",
        "outputId": "6fb50fc8-932c-4507-f622-192b43af5f9c"
      },
      "execution_count": 98,
      "outputs": [
        {
          "output_type": "stream",
          "name": "stdout",
          "text": [
            "50172\n"
          ]
        }
      ]
    },
    {
      "cell_type": "code",
      "source": [
        "worry_level = 0\n",
        "\n",
        "import copy\n",
        "import math\n",
        "\n",
        "start_monkeys = copy.deepcopy(monkeys)\n",
        "\n",
        "lcd = math.prod([x.test for x in start_monkeys])\n",
        "\n",
        "for i in range(10000):\n",
        "  if (i % 1000 == 0):\n",
        "    print(f\"Starting round {i}...\")\n",
        "  for monkey in start_monkeys:\n",
        "    for thing in monkey.things:\n",
        "      # print(f\"Monkey {monkey.id} inspects item with value {thing}\")\n",
        "      worry_level = monkey.operation(thing) % lcd\n",
        "      pass_to = monkey.run_test(worry_level)\n",
        "      start_monkeys[pass_to].append_item(worry_level)\n",
        "      monkey.inspect()\n",
        "    monkey.things = []"
      ],
      "metadata": {
        "colab": {
          "base_uri": "https://localhost:8080/"
        },
        "id": "6n7wSShEi1fI",
        "outputId": "5a6cfc1a-a945-4cc8-f717-9f55a049c92b"
      },
      "execution_count": 104,
      "outputs": [
        {
          "output_type": "stream",
          "name": "stdout",
          "text": [
            "Starting round 0...\n",
            "Starting round 1000...\n",
            "Starting round 2000...\n",
            "Starting round 3000...\n",
            "Starting round 4000...\n",
            "Starting round 5000...\n",
            "Starting round 6000...\n",
            "Starting round 7000...\n",
            "Starting round 8000...\n",
            "Starting round 9000...\n"
          ]
        }
      ]
    },
    {
      "cell_type": "code",
      "source": [
        "business = [x.inspected for x in start_monkeys]\n",
        "answer = sorted(business)[-1] * sorted(business)[-2]\n",
        "print(answer)"
      ],
      "metadata": {
        "colab": {
          "base_uri": "https://localhost:8080/"
        },
        "id": "CtpGVHUDjPdr",
        "outputId": "d4e4358d-0dcb-40cb-9928-c2ac8fee5ee8"
      },
      "execution_count": 103,
      "outputs": [
        {
          "output_type": "stream",
          "name": "stdout",
          "text": [
            "11614682178\n"
          ]
        }
      ]
    }
  ]
}