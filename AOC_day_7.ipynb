{
  "nbformat": 4,
  "nbformat_minor": 0,
  "metadata": {
    "colab": {
      "provenance": [],
      "authorship_tag": "ABX9TyOPySu9ThRM5T5DTksa7wcG",
      "include_colab_link": true
    },
    "kernelspec": {
      "name": "python3",
      "display_name": "Python 3"
    },
    "language_info": {
      "name": "python"
    }
  },
  "cells": [
    {
      "cell_type": "markdown",
      "metadata": {
        "id": "view-in-github",
        "colab_type": "text"
      },
      "source": [
        "<a href=\"https://colab.research.google.com/github/dbckz/aoc-2022/blob/main/AOC_day_7.ipynb\" target=\"_parent\"><img src=\"https://colab.research.google.com/assets/colab-badge.svg\" alt=\"Open In Colab\"/></a>"
      ]
    },
    {
      "cell_type": "code",
      "execution_count": 2,
      "metadata": {
        "id": "a95GKja3MnSN"
      },
      "outputs": [],
      "source": [
        "max_size = 100000"
      ]
    },
    {
      "cell_type": "code",
      "source": [
        "class Directory:\n",
        "  def __init__(self, name, parent):\n",
        "    self.name = name\n",
        "    self.files = set([])\n",
        "    self.children = set([])\n",
        "    self.parent = parent\n",
        "    self.dir_size = 0\n",
        "\n",
        "  def add_child(self, directory):\n",
        "    self.children.add(directory)\n",
        "\n",
        "  def calculate_dir_size(self):\n",
        "    # if (self.parent):\n",
        "    #   print(f\"I'm in {(self.name, self.parent.name)}. My children are {[(c.name, c.parent.name) for c in self.children]}\")\n",
        "    # else:\n",
        "    #   print(f\"I'm in {(self.name, None)}. My children are {[(c.name, c.parent.name) for c in self.children]}\")\n",
        "    if (self.dir_size != 0):\n",
        "      # print(self.dir_size)\n",
        "      return self.dir_size\n",
        "\n",
        "    file_sum = sum([f.size for f in self.files])\n",
        "    \n",
        "    dir_sum = sum([c.calculate_dir_size() for c in self.children])\n",
        "    self.dir_size = file_sum + dir_sum\n",
        "    # print(self.dir_size)\n",
        "    return self.dir_size\n",
        "\n",
        "  def add_file(self, filename):\n",
        "    self.files.add(filename)\n",
        "\n",
        "  def __eq__(self, other):\n",
        "    \"\"\"Overrides the default implementation\"\"\"\n",
        "    if isinstance(other, Directory):\n",
        "        return ((self.name == other.name) and (self.parent == self.parent))\n",
        "    return False\n",
        "\n",
        "  def __str__(self):\n",
        "    c = [c.name for c in self.children]\n",
        "    f = [f.name for f in self.files]\n",
        "    if self.parent:\n",
        "      return f\"Name: {self.name}, parent: {self.parent.name}, children: {c}, files: {f}\"\n",
        "    else:\n",
        "      return f\"Name: {self.name}, parent: None, children: {c}, files: {f}\"\n",
        "\n",
        "  def __hash__(self):\n",
        "    if self.parent:\n",
        "      return hash(self.name) + hash(self.parent)\n",
        "    return hash(self.name + 'None')\n",
        "\n",
        "\n",
        "class File:\n",
        "  def __init__(self, name, size):\n",
        "    self.name = name\n",
        "    self.size = size\n",
        "\n"
      ],
      "metadata": {
        "id": "NY95-bt_N_YZ"
      },
      "execution_count": 173,
      "outputs": []
    },
    {
      "cell_type": "code",
      "source": [
        "import sys\n",
        "print(sys.getrecursionlimit())\n",
        "sys.setrecursionlimit(2000)\n",
        "print(sys.getrecursionlimit())"
      ],
      "metadata": {
        "colab": {
          "base_uri": "https://localhost:8080/"
        },
        "id": "_LwGtjYbmz5s",
        "outputId": "86d976ce-21e7-4036-b73d-30f37593b126"
      },
      "execution_count": 144,
      "outputs": [
        {
          "output_type": "stream",
          "name": "stdout",
          "text": [
            "1000\n",
            "2000\n"
          ]
        }
      ]
    },
    {
      "cell_type": "code",
      "source": [
        "dirs = dict()\n",
        "\n",
        "with open('input') as f:\n",
        "  current_dir = None\n",
        "  for line in f:\n",
        "    s = line.strip().split(' ')\n",
        "    # print(s)\n",
        "    if s[0] == '$':\n",
        "      if s[1] == 'ls':\n",
        "        continue\n",
        "      if s[1] == 'cd':\n",
        "        # print(s)\n",
        "        if s[2] == '..':\n",
        "          # print(current_dir)\n",
        "          if current_dir.parent.parent:\n",
        "            current_dir = dirs[(current_dir.parent.name, current_dir.parent.parent)]\n",
        "          else:\n",
        "            current_dir = dirs[(current_dir.parent.name, None)]\n",
        "        else:\n",
        "          if current_dir:\n",
        "            if (s[2], current_dir) in dirs.keys():\n",
        "              current_dir = dirs[(s[2], current_dir)]\n",
        "            else:\n",
        "              dir = Directory(s[2], current_dir)\n",
        "              dirs[(s[2], current_dir)] = dir\n",
        "              current_dir = dir\n",
        "          else:\n",
        "            if (s[2], None) in dirs.keys():\n",
        "              current_dir = dirs[(s[2], None)]\n",
        "            else:\n",
        "              dir = Directory(s[2], current_dir)\n",
        "              dirs[(s[2], None)] = dir\n",
        "              current_dir = dir\n",
        "    elif s[0] == 'dir':\n",
        "      if (s[1], current_dir) in dirs.keys():\n",
        "        child_dir = dirs[(s[1], current_dir)]\n",
        "      else:\n",
        "        child_dir = Directory(s[1], current_dir)\n",
        "        dirs[(s[1], current_dir)] = child_dir\n",
        "      current_dir.add_child(child_dir)\n",
        "    else:\n",
        "      # it's a file\n",
        "      current_dir.add_file(File(s[1], int(s[0])))\n",
        "\n",
        "# for d in dirs.values():\n",
        "  # print(d)\n",
        "  # print(f\"Name: {d.name}, Size: {d.dir_size}\")\n",
        "\n",
        "# print(dirs.keys())\n",
        "# print(len(dirs))\n",
        "dirs[('/', None)].calculate_dir_size()\n",
        "\n",
        "# for d in dirs.values():\n",
        "#   print(f\"Name: {d.name}, Size: {d.dir_size}\")\n",
        "\n",
        "answer = 0\n",
        "\n",
        "for d in dirs.values():\n",
        "  if d.dir_size < max_size:\n",
        "    answer += d.dir_size\n",
        "\n",
        "print(answer)"
      ],
      "metadata": {
        "colab": {
          "base_uri": "https://localhost:8080/"
        },
        "id": "PTR6zqnHNk7H",
        "outputId": "b749dd53-574b-47ba-9855-1677af1baee5"
      },
      "execution_count": 174,
      "outputs": [
        {
          "output_type": "stream",
          "name": "stdout",
          "text": [
            "1783610\n"
          ]
        }
      ]
    },
    {
      "cell_type": "code",
      "source": [
        "space_remaining = 70000000 - dirs[('/', None)].dir_size\n",
        "print(space_remaining)\n",
        "amount_to_delete = 30000000 - space_remaining\n",
        "print(amount_to_delete)\n",
        "\n",
        "answer = 1000000000000000\n",
        "\n",
        "for d in dirs.values():\n",
        "  if (d.dir_size >= amount_to_delete) and (d.dir_size < answer):\n",
        "    answer = d.dir_size\n",
        "\n",
        "print(answer)\n"
      ],
      "metadata": {
        "colab": {
          "base_uri": "https://localhost:8080/"
        },
        "id": "ZpO5H1vvvHjn",
        "outputId": "9c2e1107-816e-4ff5-c4cf-531364b98744"
      },
      "execution_count": 183,
      "outputs": [
        {
          "output_type": "stream",
          "name": "stdout",
          "text": [
            "25640133\n",
            "4359867\n",
            "4370655\n"
          ]
        }
      ]
    }
  ]
}