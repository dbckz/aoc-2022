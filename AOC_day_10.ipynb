{
  "nbformat": 4,
  "nbformat_minor": 0,
  "metadata": {
    "colab": {
      "provenance": [],
      "authorship_tag": "ABX9TyNXgNzeram+pLnppfyiRvaB",
      "include_colab_link": true
    },
    "kernelspec": {
      "name": "python3",
      "display_name": "Python 3"
    },
    "language_info": {
      "name": "python"
    }
  },
  "cells": [
    {
      "cell_type": "markdown",
      "metadata": {
        "id": "view-in-github",
        "colab_type": "text"
      },
      "source": [
        "<a href=\"https://colab.research.google.com/github/dbckz/aoc-2022/blob/main/AOC_day_10.ipynb\" target=\"_parent\"><img src=\"https://colab.research.google.com/assets/colab-badge.svg\" alt=\"Open In Colab\"/></a>"
      ]
    },
    {
      "cell_type": "code",
      "execution_count": 41,
      "metadata": {
        "id": "ygnIKav9BcXP"
      },
      "outputs": [],
      "source": [
        "instructions = []\n",
        "with open('input') as f:\n",
        "  for line in f:\n",
        "    instructions.append(line.strip().split(' '))"
      ]
    },
    {
      "cell_type": "code",
      "source": [
        "register = [1]\n",
        "x = 1\n",
        "\n",
        "for i in instructions:\n",
        "  if len(i) == 1:\n",
        "    register.append(x)\n",
        "  else:\n",
        "    register.append(x)\n",
        "    x += int(i[1])\n",
        "    register.append(x)\n",
        "\n",
        "answer = 20*register[19] + 60*register[59] + 100*register[99] + 140*register[139] + 180*register[179] + 220*register[219]\n",
        "print(answer)"
      ],
      "metadata": {
        "colab": {
          "base_uri": "https://localhost:8080/"
        },
        "id": "R_xxYMl1HX2n",
        "outputId": "70a60e13-7b36-4dfb-a65f-66204b92aed7"
      },
      "execution_count": 42,
      "outputs": [
        {
          "output_type": "stream",
          "name": "stdout",
          "text": [
            "13720\n"
          ]
        }
      ]
    },
    {
      "cell_type": "code",
      "source": [
        "output = []\n",
        "\n",
        "for cycle, value in enumerate(register):\n",
        "  cycle = cycle % 40\n",
        "  if (cycle == value - 1) or (cycle == value) or (cycle == value + 1):\n",
        "    output.append('#')\n",
        "  else:\n",
        "    output.append('.')\n",
        "\n",
        "final = [output[0:39], output[40:79], output[80:119], output[120:159], output[160:199], output[200:239]]\n",
        "\n",
        "for a in final:\n",
        "  print(''.join(a))\n"
      ],
      "metadata": {
        "colab": {
          "base_uri": "https://localhost:8080/"
        },
        "id": "ohkYjhKjK6tY",
        "outputId": "ffcc8522-8c0d-4ca3-bc67-3ffd38cef17a"
      },
      "execution_count": 44,
      "outputs": [
        {
          "output_type": "stream",
          "name": "stdout",
          "text": [
            "####.###..#..#.###..#..#.####..##..#..#\n",
            "#....#..#.#..#.#..#.#..#....#.#..#.#..#\n",
            "###..###..#..#.#..#.####...#..#....####\n",
            "#....#..#.#..#.###..#..#..#...#....#..#\n",
            "#....#..#.#..#.#.#..#..#.#....#..#.#..#\n",
            "#....###...##..#..#.#..#.####..##..#..#\n"
          ]
        }
      ]
    }
  ]
}