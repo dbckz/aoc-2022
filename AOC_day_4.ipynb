{
  "nbformat": 4,
  "nbformat_minor": 0,
  "metadata": {
    "colab": {
      "provenance": [],
      "authorship_tag": "ABX9TyOBZKUVE62LiuntuFn3FSlB",
      "include_colab_link": true
    },
    "kernelspec": {
      "name": "python3",
      "display_name": "Python 3"
    },
    "language_info": {
      "name": "python"
    }
  },
  "cells": [
    {
      "cell_type": "markdown",
      "metadata": {
        "id": "view-in-github",
        "colab_type": "text"
      },
      "source": [
        "<a href=\"https://colab.research.google.com/github/dbckz/aoc-2022/blob/main/AOC_day_4.ipynb\" target=\"_parent\"><img src=\"https://colab.research.google.com/assets/colab-badge.svg\" alt=\"Open In Colab\"/></a>"
      ]
    },
    {
      "cell_type": "markdown",
      "source": [
        "# Me"
      ],
      "metadata": {
        "id": "Xa8HdVVMDWNS"
      }
    },
    {
      "cell_type": "code",
      "execution_count": 30,
      "metadata": {
        "id": "IF1-oUmdDRTR"
      },
      "outputs": [],
      "source": [
        "import numpy as np"
      ]
    },
    {
      "cell_type": "code",
      "source": [
        "inputs = []\n",
        "\n",
        "with open('input') as f:\n",
        "  for line in f:\n",
        "    first = line.strip().split(',')[0]\n",
        "    second = line.strip().split(',')[1]\n",
        "    first_l = first.split('-')[0]\n",
        "    first_u = first.split('-')[1]\n",
        "    second_l = second.split('-')[0]\n",
        "    second_u = second.split('-')[1]\n",
        "    l = [[int(first_l), int(first_u)], [int(second_l), int(second_u)]]\n",
        "    inputs.append(l)\n"
      ],
      "metadata": {
        "id": "yyffLLDlDaQU"
      },
      "execution_count": 43,
      "outputs": []
    },
    {
      "cell_type": "code",
      "source": [
        "fully_overlapping = []\n",
        "\n",
        "for ex in inputs:\n",
        "  if (((ex[0][0] <= ex[1][0]) and (ex[0][1] >= ex[1][1])) or ((ex[1][0] <= ex[0][0]) and (ex[1][1] >= ex[0][1]))):\n",
        "    fully_overlapping.append(ex)\n",
        "\n",
        "print(len(fully_overlapping))\n"
      ],
      "metadata": {
        "colab": {
          "base_uri": "https://localhost:8080/"
        },
        "id": "1OD3q-S3FTtG",
        "outputId": "b8b382fe-8a70-45d4-aaaa-e66de12cf11d"
      },
      "execution_count": 44,
      "outputs": [
        {
          "output_type": "stream",
          "name": "stdout",
          "text": [
            "456\n"
          ]
        }
      ]
    },
    {
      "cell_type": "code",
      "source": [
        "overlapping = []\n",
        "\n",
        "for ex in inputs:\n",
        "  if(((ex[0][0] < ex[1][0]) and (ex[0][1] >= ex[1][0]) and (ex[1][1] > ex[0][1])) or\n",
        "     ((ex[1][0] < ex[0][0]) and (ex[1][1] >= ex[0][0]) and (ex[0][1] > ex[1][1]))):\n",
        "    overlapping.append(ex)\n",
        "\n",
        "print(len(overlapping))\n",
        "print(len(overlapping) + len(fully_overlapping))"
      ],
      "metadata": {
        "colab": {
          "base_uri": "https://localhost:8080/"
        },
        "id": "GTmRZnZ0RslF",
        "outputId": "d59f4375-cb01-4939-f90a-209d6720775d"
      },
      "execution_count": 48,
      "outputs": [
        {
          "output_type": "stream",
          "name": "stdout",
          "text": [
            "352\n",
            "808\n"
          ]
        }
      ]
    },
    {
      "cell_type": "markdown",
      "source": [
        "# ChatGPT"
      ],
      "metadata": {
        "id": "9c55_GCPXM64"
      }
    },
    {
      "cell_type": "code",
      "source": [
        "del(input)"
      ],
      "metadata": {
        "id": "C62VygupYEjt"
      },
      "execution_count": 53,
      "outputs": []
    },
    {
      "cell_type": "code",
      "source": [
        "# Read the input\n",
        "lines = []\n",
        "while True:\n",
        "    try:\n",
        "        line = input()\n",
        "    except EOFError:\n",
        "        break\n",
        "    lines.append(line)\n",
        "\n",
        "# Parse the input into pairs of (start, end) tuples\n",
        "pairs = []\n",
        "\n",
        "for line in lines:\n",
        "    start, end = map(int, line.split('-'))\n",
        "    pairs.append((start, end))\n",
        "\n",
        "# Count the number of pairs where one range fully contains the other\n",
        "count = 0\n",
        "for i in range(len(pairs)):\n",
        "    for j in range(i+1, len(pairs)):\n",
        "        if pairs[i][0] <= pairs[j][0] and pairs[i][1] >= pairs[j][1]:\n",
        "            count += 1\n",
        "        elif pairs[j][0] <= pairs[i][0] and pairs[j][1] >= pairs[i][1]:\n",
        "            count += 1\n",
        "\n",
        "# Print the result\n",
        "print(count)\n"
      ],
      "metadata": {
        "colab": {
          "base_uri": "https://localhost:8080/",
          "height": 478
        },
        "id": "09pv7A7kXP6L",
        "outputId": "e15e276b-e522-41f1-8314-0c402d868385"
      },
      "execution_count": 54,
      "outputs": [
        {
          "name": "stdout",
          "output_type": "stream",
          "text": [
            "1,2\n",
            "2,3\n",
            "\n",
            "\n"
          ]
        },
        {
          "output_type": "error",
          "ename": "KeyboardInterrupt",
          "evalue": "ignored",
          "traceback": [
            "\u001b[0;31m---------------------------------------------------------------------------\u001b[0m",
            "\u001b[0;31mKeyboardInterrupt\u001b[0m                         Traceback (most recent call last)",
            "\u001b[0;32m<ipython-input-54-a0ad90bd3e37>\u001b[0m in \u001b[0;36m<module>\u001b[0;34m\u001b[0m\n\u001b[1;32m      3\u001b[0m \u001b[0;32mwhile\u001b[0m \u001b[0;32mTrue\u001b[0m\u001b[0;34m:\u001b[0m\u001b[0;34m\u001b[0m\u001b[0;34m\u001b[0m\u001b[0m\n\u001b[1;32m      4\u001b[0m     \u001b[0;32mtry\u001b[0m\u001b[0;34m:\u001b[0m\u001b[0;34m\u001b[0m\u001b[0;34m\u001b[0m\u001b[0m\n\u001b[0;32m----> 5\u001b[0;31m         \u001b[0mline\u001b[0m \u001b[0;34m=\u001b[0m \u001b[0minput\u001b[0m\u001b[0;34m(\u001b[0m\u001b[0;34m)\u001b[0m\u001b[0;34m\u001b[0m\u001b[0;34m\u001b[0m\u001b[0m\n\u001b[0m\u001b[1;32m      6\u001b[0m     \u001b[0;32mexcept\u001b[0m \u001b[0mEOFError\u001b[0m\u001b[0;34m:\u001b[0m\u001b[0;34m\u001b[0m\u001b[0;34m\u001b[0m\u001b[0m\n\u001b[1;32m      7\u001b[0m         \u001b[0;32mbreak\u001b[0m\u001b[0;34m\u001b[0m\u001b[0;34m\u001b[0m\u001b[0m\n",
            "\u001b[0;32m/usr/local/lib/python3.8/dist-packages/ipykernel/kernelbase.py\u001b[0m in \u001b[0;36mraw_input\u001b[0;34m(self, prompt)\u001b[0m\n\u001b[1;32m    858\u001b[0m                 \u001b[0;34m\"raw_input was called, but this frontend does not support input requests.\"\u001b[0m\u001b[0;34m\u001b[0m\u001b[0;34m\u001b[0m\u001b[0m\n\u001b[1;32m    859\u001b[0m             )\n\u001b[0;32m--> 860\u001b[0;31m         return self._input_request(str(prompt),\n\u001b[0m\u001b[1;32m    861\u001b[0m             \u001b[0mself\u001b[0m\u001b[0;34m.\u001b[0m\u001b[0m_parent_ident\u001b[0m\u001b[0;34m,\u001b[0m\u001b[0;34m\u001b[0m\u001b[0;34m\u001b[0m\u001b[0m\n\u001b[1;32m    862\u001b[0m             \u001b[0mself\u001b[0m\u001b[0;34m.\u001b[0m\u001b[0m_parent_header\u001b[0m\u001b[0;34m,\u001b[0m\u001b[0;34m\u001b[0m\u001b[0;34m\u001b[0m\u001b[0m\n",
            "\u001b[0;32m/usr/local/lib/python3.8/dist-packages/ipykernel/kernelbase.py\u001b[0m in \u001b[0;36m_input_request\u001b[0;34m(self, prompt, ident, parent, password)\u001b[0m\n\u001b[1;32m    902\u001b[0m             \u001b[0;32mexcept\u001b[0m \u001b[0mKeyboardInterrupt\u001b[0m\u001b[0;34m:\u001b[0m\u001b[0;34m\u001b[0m\u001b[0;34m\u001b[0m\u001b[0m\n\u001b[1;32m    903\u001b[0m                 \u001b[0;31m# re-raise KeyboardInterrupt, to truncate traceback\u001b[0m\u001b[0;34m\u001b[0m\u001b[0;34m\u001b[0m\u001b[0;34m\u001b[0m\u001b[0m\n\u001b[0;32m--> 904\u001b[0;31m                 \u001b[0;32mraise\u001b[0m \u001b[0mKeyboardInterrupt\u001b[0m\u001b[0;34m(\u001b[0m\u001b[0;34m\"Interrupted by user\"\u001b[0m\u001b[0;34m)\u001b[0m \u001b[0;32mfrom\u001b[0m \u001b[0;32mNone\u001b[0m\u001b[0;34m\u001b[0m\u001b[0;34m\u001b[0m\u001b[0m\n\u001b[0m\u001b[1;32m    905\u001b[0m             \u001b[0;32mexcept\u001b[0m \u001b[0mException\u001b[0m \u001b[0;32mas\u001b[0m \u001b[0me\u001b[0m\u001b[0;34m:\u001b[0m\u001b[0;34m\u001b[0m\u001b[0;34m\u001b[0m\u001b[0m\n\u001b[1;32m    906\u001b[0m                 \u001b[0mself\u001b[0m\u001b[0;34m.\u001b[0m\u001b[0mlog\u001b[0m\u001b[0;34m.\u001b[0m\u001b[0mwarning\u001b[0m\u001b[0;34m(\u001b[0m\u001b[0;34m\"Invalid Message:\"\u001b[0m\u001b[0;34m,\u001b[0m \u001b[0mexc_info\u001b[0m\u001b[0;34m=\u001b[0m\u001b[0;32mTrue\u001b[0m\u001b[0;34m)\u001b[0m\u001b[0;34m\u001b[0m\u001b[0;34m\u001b[0m\u001b[0m\n",
            "\u001b[0;31mKeyboardInterrupt\u001b[0m: Interrupted by user"
          ]
        }
      ]
    },
    {
      "cell_type": "markdown",
      "source": [
        "I don't want user input. Ask it to build a version without"
      ],
      "metadata": {
        "id": "hYSeZf-9YR5a"
      }
    },
    {
      "cell_type": "code",
      "source": [
        "# Hardcode the input data\n",
        "lines = [    \"2-4,6-8\",    \"2-3,4-5\",    \"5-7,7-9\",    \"2-8,3-7\",    \"6-6,4-6\",    \"2-6,4-8\",]\n",
        "\n",
        "# Parse the input into pairs of (start, end) tuples\n",
        "pairs = []\n",
        "for line in lines:\n",
        "    ranges = line.split(',')\n",
        "    for r in ranges:\n",
        "        start, end = map(int, r.split('-'))\n",
        "        pairs.append((start, end))\n",
        "\n",
        "# Count the number of pairs where one range fully contains the other\n",
        "count = 0\n",
        "for i in range(len(pairs)):\n",
        "    for j in range(i+1, len(pairs)):\n",
        "        if pairs[i][0] <= pairs[j][0] and pairs[i][1] >= pairs[j][1]:\n",
        "            count += 1\n",
        "        elif pairs[j][0] <= pairs[i][0] and pairs[j][1] >= pairs[i][1]:\n",
        "            count += 1\n",
        "\n",
        "# Print the result\n",
        "print(count)\n"
      ],
      "metadata": {
        "colab": {
          "base_uri": "https://localhost:8080/"
        },
        "id": "j-pO_4n9YUSg",
        "outputId": "112d6522-c8ab-4232-e262-83c5731ff046"
      },
      "execution_count": 56,
      "outputs": [
        {
          "output_type": "stream",
          "name": "stdout",
          "text": [
            "29\n"
          ]
        }
      ]
    },
    {
      "cell_type": "markdown",
      "source": [
        "Gives the wrong answer. Tell it the answer for this example should be 2 not 29, and ask it to fix."
      ],
      "metadata": {
        "id": "F-pD-YYjYtV1"
      }
    },
    {
      "cell_type": "markdown",
      "source": [
        "\"You are correct, the answer for the example input should be 2. The issue is that our code is counting pairs where one range is fully contained by the other or where one range fully contains the other, but not both. In other words, it is double-counting some pairs.\n",
        "\n",
        "To fix this, we can add a check to ensure that we only count a pair once. Here is an updated version of the code that fixes this issue:\""
      ],
      "metadata": {
        "id": "dWPXWeesY0Vn"
      }
    },
    {
      "cell_type": "code",
      "source": [
        "# Hardcode the input data\n",
        "lines = [    \"2-4,6-8\",    \"2-3,4-5\",    \"5-7,7-9\",    \"2-8,3-7\",    \"6-6,4-6\",    \"2-6,4-8\",]\n",
        "\n",
        "# Parse the input into pairs of (start, end) tuples\n",
        "pairs = []\n",
        "for line in lines:\n",
        "    ranges = line.split(',')\n",
        "    for r in ranges:\n",
        "        start, end = map(int, r.split('-'))\n",
        "        pairs.append((start, end))\n",
        "\n",
        "# Count the number of pairs where one range fully contains the other\n",
        "count = 0\n",
        "for i in range(len(pairs)):\n",
        "    for j in range(i+1, len(pairs)):\n",
        "        if pairs[i][0] <= pairs[j][0] and pairs[i][1] >= pairs[j][1] and pairs[i] != pairs[j]:\n",
        "            count += 1\n",
        "        elif pairs[j][0] <= pairs[i][0] and pairs[j][1] >= pairs[i][1] and pairs[i] != pairs[j]:\n",
        "            count += 1\n",
        "\n",
        "# Print the result\n",
        "print(count)\n"
      ],
      "metadata": {
        "colab": {
          "base_uri": "https://localhost:8080/"
        },
        "id": "_2MxO3NxYzRg",
        "outputId": "7671e0b2-d6f6-4505-baee-4725d863d3b5"
      },
      "execution_count": 57,
      "outputs": [
        {
          "output_type": "stream",
          "name": "stdout",
          "text": [
            "29\n"
          ]
        }
      ]
    },
    {
      "cell_type": "markdown",
      "source": [
        "Still wrong! Tell it.\n",
        "\n",
        "\"Ah, I see the issue now. The problem is that we're only checking for containment in one direction (i.e., if pairs[i] fully contains pairs[j]), but we need to also check if pairs[j] fully contains pairs[i]. Here is an updated version of the code that fixes this issue:\""
      ],
      "metadata": {
        "id": "EDJiCeozZASe"
      }
    },
    {
      "cell_type": "code",
      "source": [
        "# Hardcode the input data\n",
        "lines = [\n",
        "    \"2-4,6-8\",\n",
        "    \"2-3,4-5\",\n",
        "    \"5-7,7-9\",\n",
        "    \"2-8,3-7\",\n",
        "    \"6-6,4-6\",\n",
        "    \"2-6,4-8\",\n",
        "]\n",
        "\n",
        "# Parse the input into pairs of (start, end) tuples\n",
        "pairs = []\n",
        "for line in lines:\n",
        "    ranges = line.split(',')\n",
        "    for r in ranges:\n",
        "        start, end = map(int, r.split('-'))\n",
        "        pairs.append((start, end))\n",
        "\n",
        "# Count the number of pairs where one range fully contains the other\n",
        "count = 0\n",
        "for i in range(len(pairs)):\n",
        "    for j in range(i+1, len(pairs)):\n",
        "        if (pairs[i][0] <= pairs[j][0] and pairs[i][1] >= pairs[j][1] and pairs[i] != pairs[j]) or (pairs[j][0] <= pairs[i][0] and pairs[j][1] >= pairs[i][1] and pairs[i] != pairs[j]):\n",
        "            count += 1\n",
        "\n",
        "# Print the result\n",
        "print(count)\n"
      ],
      "metadata": {
        "colab": {
          "base_uri": "https://localhost:8080/"
        },
        "id": "leuVZuCCZDHo",
        "outputId": "d499cecc-59b7-486f-802d-368027d6da2b"
      },
      "execution_count": 58,
      "outputs": [
        {
          "output_type": "stream",
          "name": "stdout",
          "text": [
            "29\n"
          ]
        }
      ]
    },
    {
      "cell_type": "code",
      "source": [
        "# Hardcode the input data\n",
        "lines = [\n",
        "    \"2-4,6-8\",\n",
        "    \"2-3,4-5\",\n",
        "    \"5-7,7-9\",\n",
        "    \"2-8,3-7\",\n",
        "    \"6-6,4-6\",\n",
        "    \"2-6,4-8\",\n",
        "]\n",
        "\n",
        "# Parse the input into pairs of (start, end) tuples\n",
        "pairs = []\n",
        "for line in lines:\n",
        "    ranges = line.split(',')\n",
        "    for r in ranges:\n",
        "        start, end = map(int, r.split('-'))\n",
        "        pairs.append((start, end))\n",
        "\n",
        "# Count the number of pairs where one range fully contains the other\n",
        "count = 0\n",
        "for i in range(len(pairs)):\n",
        "    for j in range(i+1, len(pairs)):\n",
        "        if (pairs[i][0] <= pairs[j][0] and pairs[i][1] >= pairs[j][1] and pairs[i] != pairs[j]) or (pairs[j][0] <= pairs[i][0] and pairs[j][1] >= pairs[i][1] and pairs[i] != pairs[j]):\n",
        "            count += 1\n",
        "\n",
        "# Print the result\n",
        "print(count)\n"
      ],
      "metadata": {
        "colab": {
          "base_uri": "https://localhost:8080/"
        },
        "id": "vliVQXP5ZMSJ",
        "outputId": "89fd994e-0591-491b-c991-0361d9764a9e"
      },
      "execution_count": 59,
      "outputs": [
        {
          "output_type": "stream",
          "name": "stdout",
          "text": [
            "29\n"
          ]
        }
      ]
    },
    {
      "cell_type": "markdown",
      "source": [
        "It can't get it right, and I'm bored. Can't be bothered to debug rn!"
      ],
      "metadata": {
        "id": "7A6mCSPJZNxI"
      }
    }
  ]
}