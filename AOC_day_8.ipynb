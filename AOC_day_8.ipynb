{
  "nbformat": 4,
  "nbformat_minor": 0,
  "metadata": {
    "colab": {
      "provenance": [],
      "authorship_tag": "ABX9TyNVSruCSRK/l/Ab9xZh3lg0",
      "include_colab_link": true
    },
    "kernelspec": {
      "name": "python3",
      "display_name": "Python 3"
    },
    "language_info": {
      "name": "python"
    }
  },
  "cells": [
    {
      "cell_type": "markdown",
      "metadata": {
        "id": "view-in-github",
        "colab_type": "text"
      },
      "source": [
        "<a href=\"https://colab.research.google.com/github/dbckz/aoc-2022/blob/main/AOC_day_8.ipynb\" target=\"_parent\"><img src=\"https://colab.research.google.com/assets/colab-badge.svg\" alt=\"Open In Colab\"/></a>"
      ]
    },
    {
      "cell_type": "code",
      "execution_count": 1,
      "metadata": {
        "id": "1KB4gietb46t"
      },
      "outputs": [],
      "source": [
        "import numpy as np"
      ]
    },
    {
      "cell_type": "code",
      "source": [
        "grid = []\n",
        "\n",
        "with open('input') as f:\n",
        "  for line in f:\n",
        "    row = [int(x) for x in line.strip()]\n",
        "    grid.append(row)\n",
        "\n",
        "print(np.array(grid))"
      ],
      "metadata": {
        "colab": {
          "base_uri": "https://localhost:8080/"
        },
        "id": "Nh5J4syRcANU",
        "outputId": "54ad4f5e-6a36-4087-d4cf-07b7c237812b"
      },
      "execution_count": 92,
      "outputs": [
        {
          "output_type": "stream",
          "name": "stdout",
          "text": [
            "[[2 2 2 ... 1 1 0]\n",
            " [1 2 2 ... 1 1 2]\n",
            " [0 1 2 ... 1 0 0]\n",
            " ...\n",
            " [0 2 0 ... 0 0 1]\n",
            " [0 2 1 ... 1 0 0]\n",
            " [2 0 1 ... 0 0 1]]\n"
          ]
        }
      ]
    },
    {
      "cell_type": "code",
      "source": [
        "num_rows = len(grid)\n",
        "num_cols = len(grid[0])\n",
        "\n",
        "num_outer = (num_cols*num_rows) - ((num_cols - 2) * (num_rows - 2))\n",
        "\n",
        "print(num_rows)\n",
        "print(num_cols)\n",
        "print(num_outer)"
      ],
      "metadata": {
        "colab": {
          "base_uri": "https://localhost:8080/"
        },
        "id": "_gBuMtWveOUS",
        "outputId": "e9b1a318-0b5c-4b86-abe1-b0064055e764"
      },
      "execution_count": 108,
      "outputs": [
        {
          "output_type": "stream",
          "name": "stdout",
          "text": [
            "99\n",
            "99\n",
            "392\n"
          ]
        }
      ]
    },
    {
      "cell_type": "code",
      "source": [
        "class Tree:\n",
        "  def __init__(self, coords, is_visible, value):\n",
        "    self.coords = coords\n",
        "    self.is_visible = is_visible\n",
        "    self.value = value\n"
      ],
      "metadata": {
        "id": "BTWn6vzjgtmj"
      },
      "execution_count": 109,
      "outputs": []
    },
    {
      "cell_type": "code",
      "source": [
        "trees = []\n",
        "\n",
        "for i in range(num_rows):\n",
        "  for j in range(num_cols):\n",
        "    value = grid[i][j]\n",
        "    if (i == 0 or j == 0 or i == num_rows - 1 or j == num_cols - 1):\n",
        "      trees.append(Tree((i,j), True, value))\n",
        "    else:\n",
        "      # Check up\n",
        "      vis_up = True\n",
        "      for k in range(i):\n",
        "        if grid[k][j] >= value:\n",
        "          vis_up = False\n",
        "\n",
        "      # Check down\n",
        "      vis_down = True\n",
        "      for k in [i+1, num_rows-1]:\n",
        "        if grid[k][j] >= value:\n",
        "          vis_down = False\n",
        "\n",
        "      # Check left\n",
        "      vis_left = True\n",
        "      for k in range(j):\n",
        "        if grid[i][k] >= value:\n",
        "          vis_left = False\n",
        "\n",
        "      # Check right\n",
        "      vis_right = True\n",
        "      for k in [j+1, num_cols-1]:\n",
        "        if grid[i][k] >= value:\n",
        "          vis_right = False\n",
        "\n",
        "      if (vis_up or vis_down or vis_left or vis_right):\n",
        "        visibility = True\n",
        "      else:\n",
        "        visibility = False\n",
        "\n",
        "      trees.append(Tree((i,j), visibility, value))\n",
        "\n",
        "print(sum([t.is_visible for t in trees]))"
      ],
      "metadata": {
        "colab": {
          "base_uri": "https://localhost:8080/"
        },
        "id": "xsU_FPvIexNP",
        "outputId": "c770e442-0bb0-4e27-a44c-5e841bb7aab8"
      },
      "execution_count": 112,
      "outputs": [
        {
          "output_type": "stream",
          "name": "stdout",
          "text": [
            "5270\n"
          ]
        }
      ]
    },
    {
      "cell_type": "code",
      "source": [
        "print(list(range(5)))"
      ],
      "metadata": {
        "colab": {
          "base_uri": "https://localhost:8080/"
        },
        "id": "Owi_f9wkslYf",
        "outputId": "17cad271-9846-4e11-c876-30e32f3b7951"
      },
      "execution_count": 106,
      "outputs": [
        {
          "output_type": "stream",
          "name": "stdout",
          "text": [
            "[0, 1, 2, 3, 4]\n"
          ]
        }
      ]
    }
  ]
}