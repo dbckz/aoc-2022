{
  "nbformat": 4,
  "nbformat_minor": 0,
  "metadata": {
    "colab": {
      "provenance": [],
      "authorship_tag": "ABX9TyNBGhl+Npw8V3rEAgcl8oQS",
      "include_colab_link": true
    },
    "kernelspec": {
      "name": "python3",
      "display_name": "Python 3"
    },
    "language_info": {
      "name": "python"
    }
  },
  "cells": [
    {
      "cell_type": "markdown",
      "metadata": {
        "id": "view-in-github",
        "colab_type": "text"
      },
      "source": [
        "<a href=\"https://colab.research.google.com/github/dbckz/aoc-2022/blob/main/AOC_day_8.ipynb\" target=\"_parent\"><img src=\"https://colab.research.google.com/assets/colab-badge.svg\" alt=\"Open In Colab\"/></a>"
      ]
    },
    {
      "cell_type": "code",
      "execution_count": 1,
      "metadata": {
        "id": "1KB4gietb46t"
      },
      "outputs": [],
      "source": [
        "import numpy as np"
      ]
    },
    {
      "cell_type": "code",
      "source": [
        "grid = []\n",
        "\n",
        "with open('input') as f:\n",
        "  for line in f:\n",
        "    row = [int(x) for x in line.strip()]\n",
        "    grid.append(row)\n",
        "\n",
        "print(np.array(grid))"
      ],
      "metadata": {
        "colab": {
          "base_uri": "https://localhost:8080/"
        },
        "id": "Nh5J4syRcANU",
        "outputId": "799f9ac5-fdb7-4ef6-a567-9f5ce14125da"
      },
      "execution_count": 191,
      "outputs": [
        {
          "output_type": "stream",
          "name": "stdout",
          "text": [
            "[[2 2 2 ... 1 1 0]\n",
            " [1 2 2 ... 1 1 2]\n",
            " [0 1 2 ... 1 0 0]\n",
            " ...\n",
            " [0 2 0 ... 0 0 1]\n",
            " [0 2 1 ... 1 0 0]\n",
            " [2 0 1 ... 0 0 1]]\n"
          ]
        }
      ]
    },
    {
      "cell_type": "code",
      "source": [
        "num_rows = len(grid)\n",
        "num_cols = len(grid[0])\n",
        "\n",
        "num_outer = (num_cols*num_rows) - ((num_cols - 2) * (num_rows - 2))\n",
        "\n",
        "print(num_rows)\n",
        "print(num_cols)\n",
        "print(num_outer)"
      ],
      "metadata": {
        "colab": {
          "base_uri": "https://localhost:8080/"
        },
        "id": "_gBuMtWveOUS",
        "outputId": "6bcc8d64-3f1e-4f45-8a8d-ed57d2c9da22"
      },
      "execution_count": 192,
      "outputs": [
        {
          "output_type": "stream",
          "name": "stdout",
          "text": [
            "99\n",
            "99\n",
            "392\n"
          ]
        }
      ]
    },
    {
      "cell_type": "code",
      "source": [
        "class Tree:\n",
        "  def __init__(self, coords, is_visible, value, score):\n",
        "    self.coords = coords\n",
        "    self.is_visible = is_visible\n",
        "    self.value = value\n",
        "    self.score = score\n"
      ],
      "metadata": {
        "id": "BTWn6vzjgtmj"
      },
      "execution_count": 185,
      "outputs": []
    },
    {
      "cell_type": "code",
      "source": [
        "trees = []\n",
        "\n",
        "for i in range(num_rows):\n",
        "  for j in range(num_cols):\n",
        "    value = grid[i][j]\n",
        "    # if (i == 0 or j == 0 or i == num_rows - 1 or j == num_cols - 1):\n",
        "      # trees.append(Tree((i,j), True, value, 0))\n",
        "    # else:\n",
        "    # Check up\n",
        "    vis_up = True\n",
        "    up_marker_distance = 1000\n",
        "    up_marker_value = 0\n",
        "    for k in range(i):\n",
        "      if grid[k][j] >= value:\n",
        "        dist = abs(i - k)\n",
        "        if (dist < up_marker_distance):\n",
        "          up_marker_distance = dist\n",
        "          up_marker_value = grid[k][j]\n",
        "        vis_up = False\n",
        "\n",
        "    # Check down\n",
        "    vis_down = True\n",
        "    down_marker_distance = num_rows - i - 1\n",
        "    for k in range(i+1, num_rows):\n",
        "      if grid[k][j] >= value:\n",
        "        if abs(i-k) < down_marker_distance:\n",
        "          down_marker_distance = abs(i - k)\n",
        "        vis_down = False\n",
        "\n",
        "    # Check left\n",
        "    vis_left = True\n",
        "    left_marker_distance = 1000\n",
        "    left_marker_value = 0\n",
        "    for k in range(j):\n",
        "      if grid[i][k] >= value:\n",
        "        dist = abs(j - k)\n",
        "        if (dist < left_marker_distance):\n",
        "          left_marker_distance = dist\n",
        "          left_marker_value = grid[i][k]\n",
        "        vis_left = False\n",
        "\n",
        "    # Check right\n",
        "    vis_right = True\n",
        "    right_marker_distance = num_cols - j - 1\n",
        "    for k in range(j+1, num_cols):\n",
        "      if grid[i][k] >= value:\n",
        "        if abs(j-k) < right_marker_distance:\n",
        "          right_marker_distance = abs(j - k)\n",
        "        vis_right = False\n",
        "\n",
        "    if (i == 0 or j == 0 or i == num_rows - 1 or j == num_cols - 1):\n",
        "      visibility = True\n",
        "    elif (vis_up or vis_down or vis_left or vis_right):\n",
        "      visibility = True\n",
        "    else:\n",
        "      visibility = False\n",
        "\n",
        "    if up_marker_distance == 1000:\n",
        "      up_marker_distance = i\n",
        "\n",
        "    if left_marker_distance == 1000:\n",
        "      left_marker_distance = j\n",
        "\n",
        "    score = left_marker_distance * right_marker_distance * up_marker_distance * down_marker_distance\n",
        "\n",
        "    trees.append(Tree((i,j), visibility, value, score))\n",
        "\n",
        "print(sum([t.is_visible for t in trees]))\n",
        "print(max([t.score for t in trees]))"
      ],
      "metadata": {
        "colab": {
          "base_uri": "https://localhost:8080/"
        },
        "id": "xsU_FPvIexNP",
        "outputId": "75a58844-f985-4051-8b5e-4fa8d4844fbf"
      },
      "execution_count": 197,
      "outputs": [
        {
          "output_type": "stream",
          "name": "stdout",
          "text": [
            "1835\n",
            "263670\n"
          ]
        }
      ]
    }
  ]
}